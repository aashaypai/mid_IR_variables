{
 "cells": [
  {
   "cell_type": "code",
   "execution_count": 1,
   "metadata": {},
   "outputs": [],
   "source": [
    "import numpy as np\n",
    "\n",
    "import matplotlib\n",
    "import matplotlib.pyplot as plt\n",
    "\n",
    "import astropy\n",
    "from astropy.io import fits\n",
    "from astropy.io import ascii\n",
    "\n",
    "from astropy.table import Table\n",
    "from astropy.timeseries import TimeSeries\n",
    "from astropy.time import Time\n",
    "from astropy.timeseries import TimeSeries, aggregate_downsample\n",
    "from astropy.coordinates import match_coordinates_sky as coords\n",
    "\n",
    "from PIL import Image\n",
    "\n",
    "import warnings\n",
    "warnings.filterwarnings('ignore')\n",
    "\n",
    "from mid_IR_variables import fileIO_processing as fp\n",
    "from mid_IR_variables import lightcurve_processing as lp\n",
    "from mid_IR_variables import ZTF_lightcurve_processing as zlp\n",
    "from mid_IR_variables import reverberation_mapper \n",
    "from mid_IR_variables import MCMC_sampler\n",
    "\n",
    "\n",
    "from sklearn.gaussian_process import GaussianProcessRegressor, kernels\n",
    "\n",
    "from scipy import optimize\n",
    "import scipy.stats as stats\n",
    "\n",
    "import os\n",
    "\n",
    "plt.rcParams[\"font.family\"] = \"Times New Roman\"\n",
    "plt.rcParams.update({'font.size': 22})\n",
    "matplotlib.rc('font',**{'family':'serif','serif':['Times']})\n",
    "matplotlib.rc('text', usetex=True)\n",
    "\n",
    "SAVE_FILEPATH = 'C:/Users/paiaa/Documents/Research/Blanton Lab/Midir Variables/'\n",
    "IMPORT_FILEPATH ='C:/Users/paiaa/Documents/Research/Blanton Lab/Midir Variables/'\n",
    "\n",
    "mnsa_hdu, manga_wise_hdu, pipe3d_hdu = fp.import_manga(6, 1, 1)\n",
    "mnsa, mwv, pipe3d = mnsa_hdu.data, manga_wise_hdu.data, pipe3d_hdu.data"
   ]
  },
  {
   "cell_type": "code",
   "execution_count": 27,
   "metadata": {},
   "outputs": [
    {
     "name": "stdout",
     "output_type": "stream",
     "text": [
      "using padded times\n",
      "using padded times\n",
      "using padded times\n",
      "using padded times\n",
      "using padded times\n",
      "using padded times\n"
     ]
    }
   ],
   "source": [
    "pifus = np.array([ '10223-3701', '9000-1901', '7977-9101', '9186-9101','8091-6101', '9487-9102', '8593-12705', '8615-3701','7981-9102', '8341-12704', \n",
    "                  '8466-3704', '8561-3704', '7815-6104', '8091-9101', '9870-9101', '9514-1901', '9487-3702', '8710-6102', '11833-3702', '11944-12704', \n",
    "                  '8553-1901', '12071-12703', '9887-1901', '10516-12701', '7815-6104', '8132-6101', '8612-1901', '8619-12702', '9497-12705', '9502-12703',\n",
    "                    '12483-9102', '8326-6102', '8714-3704', '8999-3702'])\n",
    "for pifu in pifus:\n",
    "    #os.makedirs(SAVE_FILEPATH+\"Lightcurves/JAVELIN/\"+pifu, exist_ok=True)\n",
    "\n",
    "    opt_data = lp.generate_combined_lightcurve(pifu)\n",
    "    size = np.size(opt_data)\n",
    "    #opt_data.write(SAVE_FILEPATH+\"Lightcurves/JAVELIN/\"+pifu+\"/optical.dat\", format='ascii.no_header', overwrite=True)\n",
    "\n",
    "    w1 = fp.process_wise(pifu, mwv, band=1)\n",
    "    w1['time'] = w1['time'].to_value('decimalyear')\n",
    "    w1_size = np.size(w1)\n",
    "    #w1.write(SAVE_FILEPATH+\"Lightcurves/JAVELIN/\"+pifu+\"/w1.dat\", format='ascii.no_header', overwrite=True)\n",
    "\n",
    "    w2 = fp.process_wise(pifu, mwv, band=2)\n",
    "    w2['time'] = w2['time'].to_value('decimalyear')\n",
    "    w2_size = np.size(w2)\n",
    "    #w2.write(SAVE_FILEPATH+\"Lightcurves/JAVELIN/\"+pifu+\"/w2.dat\", format='ascii.no_header', overwrite=True)"
   ]
  },
  {
   "cell_type": "code",
   "execution_count": 19,
   "metadata": {},
   "outputs": [],
   "source": [
    "def generate_optical_lightcurve(pifu, l=[0.95, 1.05]):\n",
    "\n",
    "        optical_lightcurve = lp.generate_combined_lightcurve(pifu)\n",
    "\n",
    "        poly_subtracted_obj_p, fit, fitted_poly = lp.polyfit_lightcurves(optical_lightcurve, deg=10)\n",
    "        gp, llh, hyperparams, cov = lp.GP(poly_subtracted_obj_p, kernel_num=3, lengthscale=(l[0], l[1]))\n",
    "        gp_fitted_poly =lp.make_polynomial(gp, fit)\n",
    "        \n",
    "        gp['mag']+=gp_fitted_poly\n",
    "        print('**GP Kernel:', str(hyperparams)+'**')\n",
    "\n",
    "        return optical_lightcurve, gp"
   ]
  },
  {
   "cell_type": "code",
   "execution_count": 64,
   "metadata": {},
   "outputs": [
    {
     "name": "stdout",
     "output_type": "stream",
     "text": [
      "using padded times\n"
     ]
    }
   ],
   "source": [
    "pifu='10223-3701'\n",
    "\n",
    "opt_data = lp.generate_combined_lightcurve(pifu)\n",
    "#opt_data['time'] = opt_data['time'].to_value('decimalyear') - opt_data['time'].to_value('decimalyear')[0]\n",
    "\n",
    "# size = np.size(opt_data)\n",
    "# a, b, c, d = fp.bin_data(opt_data, 10, 1000)\n",
    "# b = b[~b['mag'].mask]\n",
    "\n",
    "# opt_data=Table()\n",
    "# opt_data['time'] = (b['time_bin_start'].to_value('decimalyear') - b['time_bin_start'][0].to_value('decimalyear'))*365\n",
    "# opt_data['mag'] = b['mag']\n",
    "# opt_data['mag_err'] = b['mag_err']\n",
    "opt_data.write(SAVE_FILEPATH+\"Lightcurves/JAVELIN/\"+pifu+\"/optical.dat\", format='ascii.no_header', overwrite=True)\n",
    "\n",
    "w1 = fp.process_wise(pifu, mwv, band=1)\n",
    "w1['time'] = (w1['time'].to_value('decimalyear')-w1['time'].to_value('decimalyear')[0])*365\n",
    "\n",
    "w1_size = np.size(w1)\n",
    "w1.write(SAVE_FILEPATH+\"Lightcurves/JAVELIN/\"+pifu+\"/w1.dat\", format='ascii.no_header', overwrite=True)\n",
    "\n",
    "w2 = fp.process_wise(pifu, mwv, band=2)\n",
    "w2['time'] = w2['time'].to_value('decimalyear')\n",
    "w2_size = np.size(w2)\n",
    "w2.write(SAVE_FILEPATH+\"Lightcurves/JAVELIN/\"+pifu+\"/w2.dat\", format='ascii.no_header', overwrite=True)"
   ]
  },
  {
   "cell_type": "code",
   "execution_count": 65,
   "metadata": {},
   "outputs": [
    {
     "data": {
      "text/html": [
       "<div><i>TimeSeries length=1289</i>\n",
       "<table id=\"table2235168451296\" class=\"table-striped table-bordered table-condensed\">\n",
       "<thead><tr><th>time</th><th>mag</th><th>mag_err</th></tr></thead>\n",
       "<thead><tr><th>Time</th><th>float64</th><th>float64</th></tr></thead>\n",
       "<tr><td>0.0</td><td>13.5</td><td>0.05</td></tr>\n",
       "<tr><td>0.009280000633680174</td><td>13.51</td><td>0.05</td></tr>\n",
       "<tr><td>0.018380001155264836</td><td>13.51</td><td>0.05</td></tr>\n",
       "<tr><td>0.02751000182001917</td><td>13.47</td><td>0.05</td></tr>\n",
       "<tr><td>20.961101329390885</td><td>13.45</td><td>0.05</td></tr>\n",
       "<tr><td>20.97036133001211</td><td>13.46</td><td>0.05</td></tr>\n",
       "<tr><td>20.97960133053789</td><td>13.44</td><td>0.05</td></tr>\n",
       "<tr><td>20.98884133114666</td><td>13.44</td><td>0.05</td></tr>\n",
       "<tr><td>26.956691709604</td><td>13.46</td><td>0.05</td></tr>\n",
       "<tr><td>26.96736171031489</td><td>13.45</td><td>0.05</td></tr>\n",
       "<tr><td>...</td><td>...</td><td>...</td></tr>\n",
       "<tr><td>6627.826667340183</td><td>13.558465807958173</td><td>0.013727105222642422</td></tr>\n",
       "<tr><td>6629.912384940145</td><td>13.56848701767497</td><td>0.01375220250338316</td></tr>\n",
       "<tr><td>6659.799086340173</td><td>13.55029854111247</td><td>0.013706927187740803</td></tr>\n",
       "<tr><td>6682.72166345058</td><td>13.60000786118083</td><td>0.01383359357714653</td></tr>\n",
       "<tr><td>6682.72166345058</td><td>13.60000786118083</td><td>0.01383359357714653</td></tr>\n",
       "<tr><td>6682.72166345058</td><td>13.60000786118083</td><td>0.01383359357714653</td></tr>\n",
       "<tr><td>6693.763876113136</td><td>13.624261706395673</td><td>0.013898814097046852</td></tr>\n",
       "<tr><td>6708.651248491562</td><td>13.555593340917158</td><td>0.013719982467591763</td></tr>\n",
       "<tr><td>6719.623352333045</td><td>13.536779254003095</td><td>0.013674061745405197</td></tr>\n",
       "<tr><td>6721.649975839879</td><td>13.59891685776286</td><td>0.013830713927745819</td></tr>\n",
       "</table></div>"
      ],
      "text/plain": [
       "<TimeSeries length=1289>\n",
       "        time                mag               mag_err       \n",
       "        Time              float64             float64       \n",
       "-------------------- ------------------ --------------------\n",
       "                 0.0               13.5                 0.05\n",
       "0.009280000633680174              13.51                 0.05\n",
       "0.018380001155264836              13.51                 0.05\n",
       " 0.02751000182001917              13.47                 0.05\n",
       "  20.961101329390885              13.45                 0.05\n",
       "   20.97036133001211              13.46                 0.05\n",
       "   20.97960133053789              13.44                 0.05\n",
       "   20.98884133114666              13.44                 0.05\n",
       "     26.956691709604              13.46                 0.05\n",
       "   26.96736171031489              13.45                 0.05\n",
       "                 ...                ...                  ...\n",
       "   6627.826667340183 13.558465807958173 0.013727105222642422\n",
       "   6629.912384940145  13.56848701767497  0.01375220250338316\n",
       "   6659.799086340173  13.55029854111247 0.013706927187740803\n",
       "    6682.72166345058  13.60000786118083  0.01383359357714653\n",
       "    6682.72166345058  13.60000786118083  0.01383359357714653\n",
       "    6682.72166345058  13.60000786118083  0.01383359357714653\n",
       "   6693.763876113136 13.624261706395673 0.013898814097046852\n",
       "   6708.651248491562 13.555593340917158 0.013719982467591763\n",
       "   6719.623352333045 13.536779254003095 0.013674061745405197\n",
       "   6721.649975839879  13.59891685776286 0.013830713927745819"
      ]
     },
     "execution_count": 65,
     "metadata": {},
     "output_type": "execute_result"
    }
   ],
   "source": [
    "opt_data"
   ]
  }
 ],
 "metadata": {
  "kernelspec": {
   "display_name": "Python 3",
   "language": "python",
   "name": "python3"
  },
  "language_info": {
   "codemirror_mode": {
    "name": "ipython",
    "version": 3
   },
   "file_extension": ".py",
   "mimetype": "text/x-python",
   "name": "python",
   "nbconvert_exporter": "python",
   "pygments_lexer": "ipython3",
   "version": "3.12.0"
  }
 },
 "nbformat": 4,
 "nbformat_minor": 2
}
